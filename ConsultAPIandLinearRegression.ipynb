{
  "nbformat": 4,
  "nbformat_minor": 0,
  "metadata": {
    "colab": {
      "name": "ConsultAPIandLinearRegression.ipynb",
      "provenance": [],
      "collapsed_sections": [],
      "toc_visible": true,
      "include_colab_link": true
    },
    "kernelspec": {
      "name": "python3",
      "display_name": "Python 3"
    }
  },
  "cells": [
    {
      "cell_type": "markdown",
      "metadata": {
        "id": "view-in-github",
        "colab_type": "text"
      },
      "source": [
        "<a href=\"https://colab.research.google.com/github/gverebl6/InvestmentPortfolioML/blob/master/ConsultAPIandLinearRegression.ipynb\" target=\"_parent\"><img src=\"https://colab.research.google.com/assets/colab-badge.svg\" alt=\"Open In Colab\"/></a>"
      ]
    },
    {
      "cell_type": "markdown",
      "metadata": {
        "id": "QSLPkZsZhxWg",
        "colab_type": "text"
      },
      "source": [
        "#Test 1:\n",
        "###Aplicación de Extracción de Informacion del API de Google junto con la aplicacion de la creación de un modelo de ML de regresion Lineal para el calculo de presion de las acciones en un instante de tiempo siguiente. \n",
        "\n",
        "#####Disclaimer: La aplicacion del algoritmo de regresion lineal no necesariamente sea lo adecuado para la prediccion de los precios de acciones a futuro. Se usa en este caso solo como ejemplo inicial. Mas adelante se buscara presentar la implementacion correcta para este problema. \n",
        "\n",
        "\n",
        "\n",
        "---\n",
        "\n"
      ]
    },
    {
      "cell_type": "markdown",
      "metadata": {
        "id": "JtOffyIDzjDT",
        "colab_type": "text"
      },
      "source": [
        "## Descargar librerias"
      ]
    },
    {
      "cell_type": "markdown",
      "metadata": {
        "id": "CMX_jgtfrZyT",
        "colab_type": "text"
      },
      "source": [
        "##Importar Librerias"
      ]
    },
    {
      "cell_type": "code",
      "metadata": {
        "id": "UGk7ai62qcJp",
        "colab_type": "code",
        "colab": {}
      },
      "source": [
        "import seaborn as sns\n",
        "import matplotlib.pyplot as plt\n",
        "import pandas as pd\n",
        "from datetime import datetime\n",
        "import requests\n",
        "from matplotlib import rcParams"
      ],
      "execution_count": 0,
      "outputs": []
    },
    {
      "cell_type": "markdown",
      "metadata": {
        "id": "vvC4K_wS0taR",
        "colab_type": "text"
      },
      "source": [
        "##Inicializacion de la data global\n"
      ]
    },
    {
      "cell_type": "code",
      "metadata": {
        "id": "bG41xrIv0wQQ",
        "colab_type": "code",
        "colab": {}
      },
      "source": [
        "RAPID_KEY = '3381c28cc2mshabe64e59906964dp16b7c7jsn200269cdcffd'\n",
        "RAPID_HOST = 'apidojo-yahoo-finance-v1.p.rapidapi.com'\n",
        "\n",
        "symbol_string = ''\n",
        "inputdata = {}"
      ],
      "execution_count": 0,
      "outputs": []
    },
    {
      "cell_type": "markdown",
      "metadata": {
        "id": "d0xAJ-FH1s1v",
        "colab_type": "text"
      },
      "source": [
        "##Obtener Data del API"
      ]
    },
    {
      "cell_type": "code",
      "metadata": {
        "id": "-qB_WQ-U1vYa",
        "colab_type": "code",
        "colab": {}
      },
      "source": [
        "def fetchStockData(symbol):\n",
        "  url = \"https://apidojo-yahoo-finance-v1.p.rapidapi.com/market/get-charts\"\n",
        "  querystring = {\n",
        "      \"comparisons\":\"%5EGDAXI%2C%5EFCHI\",\n",
        "      \"region\":\"US\",\n",
        "      \"lang\":\"en\",\n",
        "      \"symbol\":symbol,\n",
        "      \"interval\":\"1d\",\n",
        "      \"range\":\"3mo\"\n",
        "      }\n",
        "  headers = {\n",
        "    'x-rapidapi-host': \"apidojo-yahoo-finance-v1.p.rapidapi.com\",\n",
        "    'x-rapidapi-key': \"3381c28cc2mshabe64e59906964dp16b7c7jsn200269cdcffd\"\n",
        "    }\n",
        "  response = requests.request(\"GET\", url, headers=headers, params=querystring)\n",
        "\n",
        "  if response.status_code == 200:\n",
        "    return response.json()\n",
        "  else: \n",
        "    return None\n",
        "# testdata = fetchStockData('AAPL')\n",
        "# print(testdata)  "
      ],
      "execution_count": 0,
      "outputs": []
    },
    {
      "cell_type": "code",
      "metadata": {
        "id": "8Jkx1mjt_H9n",
        "colab_type": "code",
        "colab": {
          "base_uri": "https://localhost:8080/",
          "height": 34
        },
        "outputId": "b8729a79-b3c4-4e76-f64c-d7b094ad9ac3"
      },
      "source": [
        "print(type(inputdata))"
      ],
      "execution_count": 122,
      "outputs": [
        {
          "output_type": "stream",
          "text": [
            "<class 'dict'>\n"
          ],
          "name": "stdout"
        }
      ]
    },
    {
      "cell_type": "markdown",
      "metadata": {
        "id": "62mrIxxI4_zc",
        "colab_type": "text"
      },
      "source": [
        "##Extraer la data \n",
        "\n"
      ]
    },
    {
      "cell_type": "code",
      "metadata": {
        "id": "gHccxvte8Klv",
        "colab_type": "code",
        "colab": {}
      },
      "source": [
        "#Parse and get timestamp\n",
        "def parseTimestamp(inputdata):\n",
        "  timestamplist = []\n",
        "  \n",
        "  timestamplist.extend(inputdata['chart']['result'][0]['timestamp'])\n",
        "  timestamplist.extend(inputdata['chart']['result'][0]['timestamp'])\n",
        "  #Se corre dos veces, una para open y otra para closing\n",
        "\n",
        "  calendartime = []\n",
        "\n",
        "  for ts in timestamplist:\n",
        "    dt = datetime.fromtimestamp(ts)\n",
        "    calendartime.append(dt.strftime(\"%m/%d/%Y\"))\n",
        "  return calendartime\n",
        "\n",
        "#FOR TEST\n",
        "#print(parseTimestamp(testdata))"
      ],
      "execution_count": 0,
      "outputs": []
    },
    {
      "cell_type": "code",
      "metadata": {
        "id": "EY0YdkSB_7nK",
        "colab_type": "code",
        "colab": {}
      },
      "source": [
        "#Extract opening and closing.\n",
        "def parseValues(inputdata):\n",
        "  valueList = []\n",
        "  \n",
        "  valueList.extend(inputdata['chart']['result'][0]['indicators']['quote'][0]['open'])\n",
        "  valueList.extend(inputdata['chart']['result'][0]['indicators']['quote'][0]['close'])\n",
        "\n",
        "  return valueList\n",
        "\n",
        "#FOR TEST\n",
        "#print(parseValues(inputdata))"
      ],
      "execution_count": 0,
      "outputs": []
    },
    {
      "cell_type": "code",
      "metadata": {
        "id": "DjXOZr1MBIuO",
        "colab_type": "code",
        "colab": {}
      },
      "source": [
        "#Get the open and close events\n",
        "def attachEvent(inputdata):\n",
        "  eventlist = []\n",
        "\n",
        "  for i in range(0, len(inputdata['chart']['result'][0]['timestamp'])):\n",
        "    eventlist.append('open')\n",
        "\n",
        "  for i in range(0, len(inputdata['chart']['result'][0]['timestamp'])):\n",
        "    eventlist.append('close')\n",
        "\n",
        "  return eventlist\n",
        "\n",
        "#FOR TEST\n",
        "#print(attachEvent(inputdata))"
      ],
      "execution_count": 0,
      "outputs": []
    },
    {
      "cell_type": "markdown",
      "metadata": {
        "id": "5kYRGJe-COjc",
        "colab_type": "text"
      },
      "source": [
        "##Extraccion de Data en un DataFrame de Pandas"
      ]
    },
    {
      "cell_type": "code",
      "metadata": {
        "id": "1FANscaWCchL",
        "colab_type": "code",
        "colab": {}
      },
      "source": [
        "#Verificacion de la entrada del usuario. \n",
        "\n",
        "def main():\n",
        "  symbol_string = ''\n",
        "  try: \n",
        "    while (len(symbol_string) <= 2): \n",
        "      symbol_string = input('Introduzca el simbolo de la accion: ')\n",
        "\n",
        "    retdata = fetchStockData(symbol=symbol_string)\n",
        "\n",
        "    if (None != inputdata):\n",
        "\n",
        "      inputdata[\"Timestamp\"] = parseTimestamp(retdata)\n",
        "      inputdata[\"Values\"] = parseValues(retdata)\n",
        "      inputdata[\"Events\"] = attachEvent(retdata)\n",
        "\n",
        "      df = pd.DataFrame(inputdata)\n",
        "      #print(df)\n",
        "      sns.set(style='darkgrid')\n",
        "\n",
        "      rcParams['figure.figsize'] = 13,5\n",
        "      rcParams['figure.subplot.bottom'] = 0.2\n",
        "\n",
        "      ax = sns.lineplot(\n",
        "          x='Timestamp', \n",
        "          y='Values', \n",
        "          hue='Events', \n",
        "          dashes=False,\n",
        "          markers=True,\n",
        "          data=df,\n",
        "          sort=False\n",
        "          )\n",
        "      \n",
        "      ax.set_title('Symbol: ' + symbol_string)\n",
        "      \n",
        "      plt.xticks(\n",
        "          rotation=45,\n",
        "          horizontalalignment='right',\n",
        "          fontweight='light',\n",
        "          fontsize='xx-small'\n",
        "      )\n",
        "\n",
        "      plt.show()\n",
        "\n",
        "  except:\n",
        "    print('Error ')\n",
        "    print(e)\n",
        "    \n"
      ],
      "execution_count": 0,
      "outputs": []
    },
    {
      "cell_type": "markdown",
      "metadata": {
        "id": "DFqgvq2SOcqB",
        "colab_type": "text"
      },
      "source": [
        "#Correr la Aplicacion: \n",
        ">Dadole Play a la siguiente seccion de codigo se puede lograr ver los precios de las acciones de la compañia que se desee. Como por ejemplo para Apple se puede poner AAPL"
      ]
    },
    {
      "cell_type": "code",
      "metadata": {
        "id": "74FE1jf-Hobs",
        "colab_type": "code",
        "colab": {
          "base_uri": "https://localhost:8080/",
          "height": 368
        },
        "outputId": "002ab5f3-1bee-49a8-c0fa-57867234fbeb"
      },
      "source": [
        "main()"
      ],
      "execution_count": 128,
      "outputs": [
        {
          "output_type": "stream",
          "text": [
            "Introduzca el simbolo de la accion: TSLA\n"
          ],
          "name": "stdout"
        },
        {
          "output_type": "display_data",
          "data": {
            "image/png": "[encoded data removed]",
            "text/plain": [
              "<Figure size 936x360 with 1 Axes>"
            ]
          },
          "metadata": {
            "tags": []
          }
        }
      ]
    }
  ]
}