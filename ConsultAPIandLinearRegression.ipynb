{
  "nbformat": 4,
  "nbformat_minor": 0,
  "metadata": {
    "colab": {
      "name": "ConsultAPIandLinearRegression.ipynb",
      "provenance": [],
      "collapsed_sections": [],
      "toc_visible": true,
      "include_colab_link": true
    },
    "kernelspec": {
      "name": "python3",
      "display_name": "Python 3"
    }
  },
  "cells": [
    {
      "cell_type": "markdown",
      "metadata": {
        "id": "view-in-github",
        "colab_type": "text"
      },
      "source": [
        "<a href=\"https://colab.research.google.com/github/gverebl6/InvestmentPortfolioML/blob/master/ConsultAPIandLinearRegression.ipynb\" target=\"_parent\"><img src=\"https://colab.research.google.com/assets/colab-badge.svg\" alt=\"Open In Colab\"/></a>"
      ]
    },
    {
      "cell_type": "markdown",
      "metadata": {
        "id": "QSLPkZsZhxWg",
        "colab_type": "text"
      },
      "source": [
        "#Test 1:\n",
        "###Aplicación de Extracción de Informacion del API de Google junto con la aplicacion de la creación de un modelo de ML de regresion Lineal para el calculo de presion de las acciones en un instante de tiempo siguiente. \n",
        "\n",
        "#####Disclaimer: La aplicacion del algoritmo de regresion lineal no necesariamente sea lo adecuado para la prediccion de los precios de acciones a futuro. Se usa en este caso solo como ejemplo inicial. Mas adelante se buscara presentar la implementacion correcta para este problema. "
      ]
    }
  ]
}